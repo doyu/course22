{
 "cells": [
  {
   "cell_type": "markdown",
   "id": "76a210e9",
   "metadata": {
    "papermill": {
     "duration": 0.037857,
     "end_time": "2022-07-23T00:24:25.782524",
     "exception": false,
     "start_time": "2022-07-23T00:24:25.744667",
     "status": "completed"
    },
    "tags": []
   },
   "source": [
    "## Introduction and set up"
   ]
  },
  {
   "cell_type": "markdown",
   "id": "99aea35d",
   "metadata": {
    "papermill": {
     "duration": 0.036108,
     "end_time": "2022-07-23T00:24:25.855627",
     "exception": false,
     "start_time": "2022-07-23T00:24:25.819519",
     "status": "completed"
    },
    "tags": []
   },
   "source": [
    "If you've finished going through my [Linear model and neural net from scratch\n",
    "](https://www.kaggle.com/code/jhoward/linear-model-and-neural-net-from-scratch) notebook, then now is a good time to look at how to do the same thing using a library, instead of doing it from scratch. We'll use fastai and PyTorch. The benefits of using these libraries is:\n",
    "\n",
    "- Best practices are handled for you automatically -- fast.ai has done thousands of hours of experiments to figure out what the best settings are for you\n",
    "- Less time getting set up, which means more time to try out your new ideas\n",
    "- Each idea you try will be less work, because fastai and PyTorch will do the many of the menial bits for you\n",
    "- You can always drop down from fastai to PyTorch if you need to customise any part (or drop down from the fastai Application API to the fastai mid or low tier APIs), or even drop down from PyTorch to plain python for deep customisation.\n",
    "\n",
    "Let's see how that looks in practice. We'll start by doing the same library setup as in the \"from scratch\" notebook:"
   ]
  },
  {
   "cell_type": "code",
   "execution_count": 1,
   "id": "5d2e1609",
   "metadata": {
    "_kg_hide-output": true,
    "execution": {
     "iopub.execute_input": "2022-07-23T00:24:25.937066Z",
     "iopub.status.busy": "2022-07-23T00:24:25.936105Z",
     "iopub.status.idle": "2022-07-23T00:24:55.441836Z",
     "shell.execute_reply": "2022-07-23T00:24:55.440597Z"
    },
    "papermill": {
     "duration": 29.55334,
     "end_time": "2022-07-23T00:24:55.444556",
     "exception": false,
     "start_time": "2022-07-23T00:24:25.891216",
     "status": "completed"
    },
    "tags": []
   },
   "outputs": [
    {
     "name": "stdout",
     "output_type": "stream",
     "text": [
      "\u001b[31mERROR: pip's dependency resolver does not currently take into account all the packages that are installed. This behaviour is the source of the following dependency conflicts.\r\n",
      "tensorflow-io 0.21.0 requires tensorflow-io-gcs-filesystem==0.21.0, which is not installed.\r\n",
      "tensorflow 2.6.3 requires absl-py~=0.10, but you have absl-py 1.0.0 which is incompatible.\r\n",
      "tensorflow 2.6.3 requires numpy~=1.19.2, but you have numpy 1.21.6 which is incompatible.\r\n",
      "tensorflow 2.6.3 requires six~=1.15.0, but you have six 1.16.0 which is incompatible.\r\n",
      "tensorflow 2.6.3 requires wrapt~=1.12.1, but you have wrapt 1.14.0 which is incompatible.\r\n",
      "tensorflow-transform 1.7.0 requires pyarrow<6,>=1, but you have pyarrow 7.0.0 which is incompatible.\r\n",
      "tensorflow-transform 1.7.0 requires tensorflow!=2.0.*,!=2.1.*,!=2.2.*,!=2.3.*,!=2.4.*,!=2.5.*,!=2.6.*,!=2.7.*,<2.9,>=1.15.5, but you have tensorflow 2.6.3 which is incompatible.\r\n",
      "tensorflow-serving-api 2.8.0 requires tensorflow<3,>=2.8.0, but you have tensorflow 2.6.3 which is incompatible.\r\n",
      "rich 12.4.1 requires typing-extensions<5.0,>=4.0.0; python_version < \"3.9\", but you have typing-extensions 3.10.0.2 which is incompatible.\r\n",
      "pytorch-lightning 1.6.3 requires typing-extensions>=4.0.0, but you have typing-extensions 3.10.0.2 which is incompatible.\r\n",
      "flax 0.4.2 requires typing-extensions>=4.1.1, but you have typing-extensions 3.10.0.2 which is incompatible.\r\n",
      "flake8 4.0.1 requires importlib-metadata<4.3; python_version < \"3.8\", but you have importlib-metadata 4.11.3 which is incompatible.\r\n",
      "apache-beam 2.37.0 requires dill<0.3.2,>=0.3.1.1, but you have dill 0.3.4 which is incompatible.\r\n",
      "apache-beam 2.37.0 requires httplib2<0.20.0,>=0.8, but you have httplib2 0.20.4 which is incompatible.\r\n",
      "apache-beam 2.37.0 requires pyarrow<7.0.0,>=0.15.1, but you have pyarrow 7.0.0 which is incompatible.\r\n",
      "aioitertools 0.10.0 requires typing_extensions>=4.0; python_version < \"3.10\", but you have typing-extensions 3.10.0.2 which is incompatible.\r\n",
      "aiobotocore 2.2.0 requires botocore<1.24.22,>=1.24.21, but you have botocore 1.25.12 which is incompatible.\u001b[0m\u001b[31m\r\n",
      "\u001b[0m"
     ]
    }
   ],
   "source": [
    "from pathlib import Path\n",
    "import os\n",
    "\n",
    "iskaggle = os.environ.get('KAGGLE_KERNEL_RUN_TYPE', '')\n",
    "if iskaggle:\n",
    "    path = Path('../input/titanic')\n",
    "    !pip install -Uqq fastai\n",
    "else:\n",
    "    import zipfile,kaggle\n",
    "    path = Path('titanic')\n",
    "    if not path.exists():\n",
    "        kaggle.api.competition_download_cli(str(path))\n",
    "        zipfile.ZipFile(f'{path}.zip').extractall(path)"
   ]
  },
  {
   "cell_type": "markdown",
   "id": "21f2ea95",
   "metadata": {
    "papermill": {
     "duration": 0.034772,
     "end_time": "2022-07-23T00:24:55.517287",
     "exception": false,
     "start_time": "2022-07-23T00:24:55.482515",
     "status": "completed"
    },
    "tags": []
   },
   "source": [
    "We'll import the fastai tabular library, set a random seed so the notebook is reproducible, and pick a reasonable number of significant figures to display in our tables:"
   ]
  },
  {
   "cell_type": "code",
   "execution_count": 2,
   "id": "36f4f14d",
   "metadata": {
    "execution": {
     "iopub.execute_input": "2022-07-23T00:24:55.589980Z",
     "iopub.status.busy": "2022-07-23T00:24:55.589150Z",
     "iopub.status.idle": "2022-07-23T00:24:58.621512Z",
     "shell.execute_reply": "2022-07-23T00:24:58.620344Z"
    },
    "papermill": {
     "duration": 3.071428,
     "end_time": "2022-07-23T00:24:58.624008",
     "exception": false,
     "start_time": "2022-07-23T00:24:55.552580",
     "status": "completed"
    },
    "tags": []
   },
   "outputs": [],
   "source": [
    "from fastai.tabular.all import *\n",
    "\n",
    "pd.options.display.float_format = '{:.2f}'.format\n",
    "set_seed(42)"
   ]
  },
  {
   "cell_type": "markdown",
   "id": "6ee1fde9",
   "metadata": {
    "papermill": {
     "duration": 0.037144,
     "end_time": "2022-07-23T00:24:58.696625",
     "exception": false,
     "start_time": "2022-07-23T00:24:58.659481",
     "status": "completed"
    },
    "tags": []
   },
   "source": [
    "## Prep the data"
   ]
  },
  {
   "cell_type": "markdown",
   "id": "ed2d99df",
   "metadata": {
    "papermill": {
     "duration": 0.035671,
     "end_time": "2022-07-23T00:24:58.770106",
     "exception": false,
     "start_time": "2022-07-23T00:24:58.734435",
     "status": "completed"
    },
    "tags": []
   },
   "source": [
    "We'll read the CSV file just like we did before:"
   ]
  },
  {
   "cell_type": "code",
   "execution_count": 3,
   "id": "d029689e",
   "metadata": {
    "execution": {
     "iopub.execute_input": "2022-07-23T00:24:58.842804Z",
     "iopub.status.busy": "2022-07-23T00:24:58.842523Z",
     "iopub.status.idle": "2022-07-23T00:24:58.862737Z",
     "shell.execute_reply": "2022-07-23T00:24:58.861885Z"
    },
    "papermill": {
     "duration": 0.059774,
     "end_time": "2022-07-23T00:24:58.865341",
     "exception": false,
     "start_time": "2022-07-23T00:24:58.805567",
     "status": "completed"
    },
    "tags": []
   },
   "outputs": [],
   "source": [
    "df = pd.read_csv(path/'train.csv')"
   ]
  },
  {
   "cell_type": "markdown",
   "id": "e5f1844c",
   "metadata": {
    "papermill": {
     "duration": 0.035833,
     "end_time": "2022-07-23T00:24:58.937389",
     "exception": false,
     "start_time": "2022-07-23T00:24:58.901556",
     "status": "completed"
    },
    "tags": []
   },
   "source": [
    "When you do everything from scratch, every bit of feature engineering requires a whole lot of work, since you have to think about things like dummy variables, normalization, missing values, and so on. But with fastai that's all done for you. So let's go wild and create lots of new features! We'll use a bunch of the most interesting ones from this fantastic [Titanic feature engineering notebook](https://www.kaggle.com/code/gunesevitan/titanic-advanced-feature-engineering-tutorial/) (and be sure to click that link and upvote that notebook if you like it to thank the author for their hard work!)"
   ]
  },
  {
   "cell_type": "code",
   "execution_count": 4,
   "id": "9d16f018",
   "metadata": {
    "execution": {
     "iopub.execute_input": "2022-07-23T00:24:59.010472Z",
     "iopub.status.busy": "2022-07-23T00:24:59.010194Z",
     "iopub.status.idle": "2022-07-23T00:24:59.171912Z",
     "shell.execute_reply": "2022-07-23T00:24:59.170823Z"
    },
    "papermill": {
     "duration": 0.200681,
     "end_time": "2022-07-23T00:24:59.174450",
     "exception": false,
     "start_time": "2022-07-23T00:24:58.973769",
     "status": "completed"
    },
    "tags": []
   },
   "outputs": [],
   "source": [
    "def add_features(df):\n",
    "    df['LogFare'] = np.log1p(df['Fare'])\n",
    "    df['Deck'] = df.Cabin.str[0].map(dict(A=\"ABC\", B=\"ABC\", C=\"ABC\", D=\"DE\", E=\"DE\", F=\"FG\", G=\"FG\"))\n",
    "    df['Family'] = df.SibSp+df.Parch\n",
    "    df['Alone'] = df.Family==1\n",
    "    df['TicketFreq'] = df.groupby('Ticket')['Ticket'].transform('count')\n",
    "    df['Title'] = df.Name.str.split(', ', expand=True)[1].str.split('.', expand=True)[0]\n",
    "    df['Title'] = df.Title.map(dict(Mr=\"Mr\",Miss=\"Miss\",Mrs=\"Mrs\",Master=\"Master\"))\n",
    "\n",
    "add_features(df)"
   ]
  },
  {
   "cell_type": "markdown",
   "id": "ce2dc623",
   "metadata": {
    "papermill": {
     "duration": 0.034739,
     "end_time": "2022-07-23T00:24:59.244575",
     "exception": false,
     "start_time": "2022-07-23T00:24:59.209836",
     "status": "completed"
    },
    "tags": []
   },
   "source": [
    "As we discussed in the last notebook, we can use `RandomSplitter` to separate out the training and validation sets:"
   ]
  },
  {
   "cell_type": "code",
   "execution_count": 5,
   "id": "5cea7f7a",
   "metadata": {
    "execution": {
     "iopub.execute_input": "2022-07-23T00:24:59.316241Z",
     "iopub.status.busy": "2022-07-23T00:24:59.315942Z",
     "iopub.status.idle": "2022-07-23T00:24:59.321388Z",
     "shell.execute_reply": "2022-07-23T00:24:59.320543Z"
    },
    "papermill": {
     "duration": 0.044183,
     "end_time": "2022-07-23T00:24:59.323629",
     "exception": false,
     "start_time": "2022-07-23T00:24:59.279446",
     "status": "completed"
    },
    "tags": []
   },
   "outputs": [],
   "source": [
    "splits = RandomSplitter(seed=42)(df)"
   ]
  },
  {
   "cell_type": "markdown",
   "id": "cb978e9b",
   "metadata": {
    "papermill": {
     "duration": 0.034677,
     "end_time": "2022-07-23T00:24:59.394299",
     "exception": false,
     "start_time": "2022-07-23T00:24:59.359622",
     "status": "completed"
    },
    "tags": []
   },
   "source": [
    "Now the entire process of getting the data ready for training requires just this one cell!:"
   ]
  },
  {
   "cell_type": "code",
   "execution_count": 6,
   "id": "ffbc4e0e",
   "metadata": {
    "execution": {
     "iopub.execute_input": "2022-07-23T00:24:59.466396Z",
     "iopub.status.busy": "2022-07-23T00:24:59.466117Z",
     "iopub.status.idle": "2022-07-23T00:24:59.534483Z",
     "shell.execute_reply": "2022-07-23T00:24:59.533436Z"
    },
    "papermill": {
     "duration": 0.107839,
     "end_time": "2022-07-23T00:24:59.537114",
     "exception": false,
     "start_time": "2022-07-23T00:24:59.429275",
     "status": "completed"
    },
    "tags": []
   },
   "outputs": [],
   "source": [
    "dls = TabularPandas(\n",
    "    df, splits=splits,\n",
    "    procs = [Categorify, FillMissing, Normalize],\n",
    "    cat_names=[\"Sex\",\"Pclass\",\"Embarked\",\"Deck\", \"Title\"],\n",
    "    cont_names=['Age', 'SibSp', 'Parch', 'LogFare', 'Alone', 'TicketFreq', 'Family'],\n",
    "    y_names=\"Survived\", y_block = CategoryBlock(),\n",
    ").dataloaders(path=\".\")"
   ]
  },
  {
   "cell_type": "markdown",
   "id": "b2347e33",
   "metadata": {
    "papermill": {
     "duration": 0.034948,
     "end_time": "2022-07-23T00:24:59.607558",
     "exception": false,
     "start_time": "2022-07-23T00:24:59.572610",
     "status": "completed"
    },
    "tags": []
   },
   "source": [
    "Here's what each of the parameters means:\n",
    "\n",
    "- Use `splits` for indices of training and validation sets:\n",
    "\n",
    "      splits=splits,\n",
    "    \n",
    "- Turn strings into categories, fill missing values in numeric columns with the median, normalise all numeric columns:\n",
    "    \n",
    "      procs = [Categorify, FillMissing, Normalize],\n",
    "    \n",
    "- These are the categorical independent variables:\n",
    "    \n",
    "      cat_names=[\"Sex\",\"Pclass\",\"Embarked\",\"Deck\", \"Title\"],\n",
    "    \n",
    "- These are the continuous independent variables:\n",
    "    \n",
    "      cont_names=['Age', 'SibSp', 'Parch', 'LogFare', 'Alone', 'TicketFreq', 'Family'],\n",
    "    \n",
    "- This is the dependent variable:\n",
    "    \n",
    "      y_names=\"Survived\",\n",
    "\n",
    "- The dependent variable is categorical (so build a classification model, not a regression model):\n",
    "\n",
    "      y_block = CategoryBlock(),"
   ]
  },
  {
   "cell_type": "markdown",
   "id": "772392e9",
   "metadata": {
    "papermill": {
     "duration": 0.03486,
     "end_time": "2022-07-23T00:24:59.678170",
     "exception": false,
     "start_time": "2022-07-23T00:24:59.643310",
     "status": "completed"
    },
    "tags": []
   },
   "source": [
    "## Train the model"
   ]
  },
  {
   "cell_type": "markdown",
   "id": "c48de184",
   "metadata": {
    "papermill": {
     "duration": 0.034665,
     "end_time": "2022-07-23T00:24:59.748332",
     "exception": false,
     "start_time": "2022-07-23T00:24:59.713667",
     "status": "completed"
    },
    "tags": []
   },
   "source": [
    "The data and model together make up a `Learner`. To create one, we say what the data is (`dls`), and the size of each hidden layer (`[10,10]`), along with any metrics we want to print along the way:"
   ]
  },
  {
   "cell_type": "code",
   "execution_count": 7,
   "id": "15b9f86a",
   "metadata": {
    "execution": {
     "iopub.execute_input": "2022-07-23T00:24:59.820864Z",
     "iopub.status.busy": "2022-07-23T00:24:59.820367Z",
     "iopub.status.idle": "2022-07-23T00:24:59.837135Z",
     "shell.execute_reply": "2022-07-23T00:24:59.836185Z"
    },
    "papermill": {
     "duration": 0.056408,
     "end_time": "2022-07-23T00:24:59.839624",
     "exception": false,
     "start_time": "2022-07-23T00:24:59.783216",
     "status": "completed"
    },
    "tags": []
   },
   "outputs": [],
   "source": [
    "learn = tabular_learner(dls, metrics=accuracy, layers=[10,10])"
   ]
  },
  {
   "cell_type": "markdown",
   "id": "7e305b2e",
   "metadata": {
    "papermill": {
     "duration": 0.035248,
     "end_time": "2022-07-23T00:24:59.911340",
     "exception": false,
     "start_time": "2022-07-23T00:24:59.876092",
     "status": "completed"
    },
    "tags": []
   },
   "source": [
    "You'll notice we didn't have to do any messing around to try to find a set of random coefficients that will train correctly -- that's all handled automatically.\n",
    "\n",
    "One handy feature that fastai can also tell us what learning rate to use:"
   ]
  },
  {
   "cell_type": "code",
   "execution_count": 8,
   "id": "15d237dc",
   "metadata": {
    "execution": {
     "iopub.execute_input": "2022-07-23T00:24:59.983117Z",
     "iopub.status.busy": "2022-07-23T00:24:59.982828Z",
     "iopub.status.idle": "2022-07-23T00:25:02.135825Z",
     "shell.execute_reply": "2022-07-23T00:25:02.134925Z"
    },
    "papermill": {
     "duration": 2.191962,
     "end_time": "2022-07-23T00:25:02.138340",
     "exception": false,
     "start_time": "2022-07-23T00:24:59.946378",
     "status": "completed"
    },
    "tags": []
   },
   "outputs": [
    {
     "data": {
      "text/html": [
       "\n",
       "<style>\n",
       "    /* Turns off some styling */\n",
       "    progress {\n",
       "        /* gets rid of default border in Firefox and Opera. */\n",
       "        border: none;\n",
       "        /* Needs to be in here for Safari polyfill so background images work as expected. */\n",
       "        background-size: auto;\n",
       "    }\n",
       "    .progress-bar-interrupted, .progress-bar-interrupted::-webkit-progress-bar {\n",
       "        background: #F44336;\n",
       "    }\n",
       "</style>\n"
      ],
      "text/plain": [
       "<IPython.core.display.HTML object>"
      ]
     },
     "metadata": {},
     "output_type": "display_data"
    },
    {
     "data": {
      "text/html": [],
      "text/plain": [
       "<IPython.core.display.HTML object>"
      ]
     },
     "metadata": {},
     "output_type": "display_data"
    },
    {
     "data": {
      "text/plain": [
       "SuggestedLRs(slide=0.12022644281387329, valley=0.005248074419796467)"
      ]
     },
     "execution_count": 8,
     "metadata": {},
     "output_type": "execute_result"
    },
    {
     "data": {
      "image/png": "[encoded data removed]",
      "text/plain": [
       "<Figure size 432x288 with 1 Axes>"
      ]
     },
     "metadata": {
      "needs_background": "light"
     },
     "output_type": "display_data"
    }
   ],
   "source": [
    "learn.lr_find(suggest_funcs=(slide, valley))"
   ]
  },
  {
   "cell_type": "markdown",
   "id": "d1c70639",
   "metadata": {
    "papermill": {
     "duration": 0.037571,
     "end_time": "2022-07-23T00:25:02.213924",
     "exception": false,
     "start_time": "2022-07-23T00:25:02.176353",
     "status": "completed"
    },
    "tags": []
   },
   "source": [
    "The two colored points are both reasonable choices for a learning rate. I'll pick somewhere between the two (0.03) and train for a few epochs:"
   ]
  },
  {
   "cell_type": "code",
   "execution_count": 9,
   "id": "8797d619",
   "metadata": {
    "execution": {
     "iopub.execute_input": "2022-07-23T00:25:02.291361Z",
     "iopub.status.busy": "2022-07-23T00:25:02.291029Z",
     "iopub.status.idle": "2022-07-23T00:25:04.859391Z",
     "shell.execute_reply": "2022-07-23T00:25:04.858548Z"
    },
    "papermill": {
     "duration": 2.609632,
     "end_time": "2022-07-23T00:25:04.861681",
     "exception": false,
     "start_time": "2022-07-23T00:25:02.252049",
     "status": "completed"
    },
    "tags": []
   },
   "outputs": [
    {
     "data": {
      "text/html": [
       "\n",
       "<style>\n",
       "    /* Turns off some styling */\n",
       "    progress {\n",
       "        /* gets rid of default border in Firefox and Opera. */\n",
       "        border: none;\n",
       "        /* Needs to be in here for Safari polyfill so background images work as expected. */\n",
       "        background-size: auto;\n",
       "    }\n",
       "    .progress-bar-interrupted, .progress-bar-interrupted::-webkit-progress-bar {\n",
       "        background: #F44336;\n",
       "    }\n",
       "</style>\n"
      ],
      "text/plain": [
       "<IPython.core.display.HTML object>"
      ]
     },
     "metadata": {},
     "output_type": "display_data"
    },
    {
     "data": {
      "text/html": [
       "<table border=\"1\" class=\"dataframe\">\n",
       "  <thead>\n",
       "    <tr style=\"text-align: left;\">\n",
       "      <th>epoch</th>\n",
       "      <th>train_loss</th>\n",
       "      <th>valid_loss</th>\n",
       "      <th>accuracy</th>\n",
       "      <th>time</th>\n",
       "    </tr>\n",
       "  </thead>\n",
       "  <tbody>\n",
       "    <tr>\n",
       "      <td>0</td>\n",
       "      <td>0.566262</td>\n",
       "      <td>0.563902</td>\n",
       "      <td>0.595506</td>\n",
       "      <td>00:00</td>\n",
       "    </tr>\n",
       "    <tr>\n",
       "      <td>1</td>\n",
       "      <td>0.503330</td>\n",
       "      <td>0.477804</td>\n",
       "      <td>0.758427</td>\n",
       "      <td>00:00</td>\n",
       "    </tr>\n",
       "    <tr>\n",
       "      <td>2</td>\n",
       "      <td>0.465172</td>\n",
       "      <td>0.423246</td>\n",
       "      <td>0.820225</td>\n",
       "      <td>00:00</td>\n",
       "    </tr>\n",
       "    <tr>\n",
       "      <td>3</td>\n",
       "      <td>0.436245</td>\n",
       "      <td>0.443095</td>\n",
       "      <td>0.825843</td>\n",
       "      <td>00:00</td>\n",
       "    </tr>\n",
       "    <tr>\n",
       "      <td>4</td>\n",
       "      <td>0.427813</td>\n",
       "      <td>0.468378</td>\n",
       "      <td>0.831461</td>\n",
       "      <td>00:00</td>\n",
       "    </tr>\n",
       "    <tr>\n",
       "      <td>5</td>\n",
       "      <td>0.415492</td>\n",
       "      <td>0.453219</td>\n",
       "      <td>0.820225</td>\n",
       "      <td>00:00</td>\n",
       "    </tr>\n",
       "    <tr>\n",
       "      <td>6</td>\n",
       "      <td>0.408817</td>\n",
       "      <td>0.441806</td>\n",
       "      <td>0.814607</td>\n",
       "      <td>00:00</td>\n",
       "    </tr>\n",
       "    <tr>\n",
       "      <td>7</td>\n",
       "      <td>0.400938</td>\n",
       "      <td>0.417452</td>\n",
       "      <td>0.808989</td>\n",
       "      <td>00:00</td>\n",
       "    </tr>\n",
       "    <tr>\n",
       "      <td>8</td>\n",
       "      <td>0.394318</td>\n",
       "      <td>0.425506</td>\n",
       "      <td>0.837079</td>\n",
       "      <td>00:00</td>\n",
       "    </tr>\n",
       "    <tr>\n",
       "      <td>9</td>\n",
       "      <td>0.388657</td>\n",
       "      <td>0.446482</td>\n",
       "      <td>0.820225</td>\n",
       "      <td>00:00</td>\n",
       "    </tr>\n",
       "    <tr>\n",
       "      <td>10</td>\n",
       "      <td>0.385211</td>\n",
       "      <td>0.429798</td>\n",
       "      <td>0.820225</td>\n",
       "      <td>00:00</td>\n",
       "    </tr>\n",
       "    <tr>\n",
       "      <td>11</td>\n",
       "      <td>0.383767</td>\n",
       "      <td>0.479437</td>\n",
       "      <td>0.803371</td>\n",
       "      <td>00:00</td>\n",
       "    </tr>\n",
       "    <tr>\n",
       "      <td>12</td>\n",
       "      <td>0.381065</td>\n",
       "      <td>0.430963</td>\n",
       "      <td>0.803371</td>\n",
       "      <td>00:00</td>\n",
       "    </tr>\n",
       "    <tr>\n",
       "      <td>13</td>\n",
       "      <td>0.378681</td>\n",
       "      <td>0.430277</td>\n",
       "      <td>0.837079</td>\n",
       "      <td>00:00</td>\n",
       "    </tr>\n",
       "    <tr>\n",
       "      <td>14</td>\n",
       "      <td>0.375494</td>\n",
       "      <td>0.426442</td>\n",
       "      <td>0.831461</td>\n",
       "      <td>00:00</td>\n",
       "    </tr>\n",
       "    <tr>\n",
       "      <td>15</td>\n",
       "      <td>0.372473</td>\n",
       "      <td>0.438529</td>\n",
       "      <td>0.820225</td>\n",
       "      <td>00:00</td>\n",
       "    </tr>\n",
       "  </tbody>\n",
       "</table>"
      ],
      "text/plain": [
       "<IPython.core.display.HTML object>"
      ]
     },
     "metadata": {},
     "output_type": "display_data"
    }
   ],
   "source": [
    "learn.fit(16, lr=0.03)"
   ]
  },
  {
   "cell_type": "markdown",
   "id": "a5c120ae",
   "metadata": {
    "papermill": {
     "duration": 0.039725,
     "end_time": "2022-07-23T00:25:04.942519",
     "exception": false,
     "start_time": "2022-07-23T00:25:04.902794",
     "status": "completed"
    },
    "tags": []
   },
   "source": [
    "We've got a similar accuracy to our previous \"from scratch\" model -- which isn't too surprising, since as we discussed, this dataset is too small and simple to really see much difference. A simple linear model already does a pretty good job. But that's OK -- the goal here is to show you how to get started with deep learning and understand how it really works, and the best way to do that is on small and easy to understand datasets."
   ]
  },
  {
   "cell_type": "markdown",
   "id": "ba2d27e9",
   "metadata": {
    "papermill": {
     "duration": 0.038712,
     "end_time": "2022-07-23T00:25:05.021491",
     "exception": false,
     "start_time": "2022-07-23T00:25:04.982779",
     "status": "completed"
    },
    "tags": []
   },
   "source": [
    "## Submit to Kaggle"
   ]
  },
  {
   "cell_type": "markdown",
   "id": "d70f3a36",
   "metadata": {
    "papermill": {
     "duration": 0.039255,
     "end_time": "2022-07-23T00:25:05.099950",
     "exception": false,
     "start_time": "2022-07-23T00:25:05.060695",
     "status": "completed"
    },
    "tags": []
   },
   "source": [
    "One important feature of fastai is that all the information needed to apply the data transformations and the model to a new dataset are stored in the learner. You can call `export` to save it to a file to use it later in production, or you can use the trained model right away to get predictions on a test set.\n",
    "\n",
    "To submit to Kaggle, we'll need to read in the test set, and do the same feature engineering we did for the training set:"
   ]
  },
  {
   "cell_type": "code",
   "execution_count": 10,
   "id": "c4ce13d2",
   "metadata": {
    "execution": {
     "iopub.execute_input": "2022-07-23T00:25:05.180009Z",
     "iopub.status.busy": "2022-07-23T00:25:05.179723Z",
     "iopub.status.idle": "2022-07-23T00:25:05.204170Z",
     "shell.execute_reply": "2022-07-23T00:25:05.203489Z"
    },
    "papermill": {
     "duration": 0.067233,
     "end_time": "2022-07-23T00:25:05.206452",
     "exception": false,
     "start_time": "2022-07-23T00:25:05.139219",
     "status": "completed"
    },
    "tags": []
   },
   "outputs": [],
   "source": [
    "tst_df = pd.read_csv(path/'test.csv')\n",
    "tst_df['Fare'] = tst_df.Fare.fillna(0)\n",
    "add_features(tst_df)"
   ]
  },
  {
   "cell_type": "markdown",
   "id": "5e3d65e9",
   "metadata": {
    "papermill": {
     "duration": 0.039495,
     "end_time": "2022-07-23T00:25:05.285330",
     "exception": false,
     "start_time": "2022-07-23T00:25:05.245835",
     "status": "completed"
    },
    "tags": []
   },
   "source": [
    "But we don't need to manually specify any of the processing steps necessary to get the data ready for modeling, since that's all saved in the learner. To specify we want to apply the same steps to a new dataset, use the `test_dl()` method:"
   ]
  },
  {
   "cell_type": "code",
   "execution_count": 11,
   "id": "eb3aa635",
   "metadata": {
    "execution": {
     "iopub.execute_input": "2022-07-23T00:25:05.366011Z",
     "iopub.status.busy": "2022-07-23T00:25:05.365443Z",
     "iopub.status.idle": "2022-07-23T00:25:05.386835Z",
     "shell.execute_reply": "2022-07-23T00:25:05.385936Z"
    },
    "papermill": {
     "duration": 0.063998,
     "end_time": "2022-07-23T00:25:05.389143",
     "exception": false,
     "start_time": "2022-07-23T00:25:05.325145",
     "status": "completed"
    },
    "tags": []
   },
   "outputs": [],
   "source": [
    "tst_dl = learn.dls.test_dl(tst_df)"
   ]
  },
  {
   "cell_type": "markdown",
   "id": "a1e0dd3c",
   "metadata": {
    "papermill": {
     "duration": 0.039102,
     "end_time": "2022-07-23T00:25:05.468214",
     "exception": false,
     "start_time": "2022-07-23T00:25:05.429112",
     "status": "completed"
    },
    "tags": []
   },
   "source": [
    "Now we can use `get_preds` to get the predictions for the test set:"
   ]
  },
  {
   "cell_type": "code",
   "execution_count": 12,
   "id": "2812962f",
   "metadata": {
    "execution": {
     "iopub.execute_input": "2022-07-23T00:25:05.548861Z",
     "iopub.status.busy": "2022-07-23T00:25:05.548321Z",
     "iopub.status.idle": "2022-07-23T00:25:05.615016Z",
     "shell.execute_reply": "2022-07-23T00:25:05.614180Z"
    },
    "papermill": {
     "duration": 0.110003,
     "end_time": "2022-07-23T00:25:05.617476",
     "exception": false,
     "start_time": "2022-07-23T00:25:05.507473",
     "status": "completed"
    },
    "tags": []
   },
   "outputs": [
    {
     "data": {
      "text/html": [
       "\n",
       "<style>\n",
       "    /* Turns off some styling */\n",
       "    progress {\n",
       "        /* gets rid of default border in Firefox and Opera. */\n",
       "        border: none;\n",
       "        /* Needs to be in here for Safari polyfill so background images work as expected. */\n",
       "        background-size: auto;\n",
       "    }\n",
       "    .progress-bar-interrupted, .progress-bar-interrupted::-webkit-progress-bar {\n",
       "        background: #F44336;\n",
       "    }\n",
       "</style>\n"
      ],
      "text/plain": [
       "<IPython.core.display.HTML object>"
      ]
     },
     "metadata": {},
     "output_type": "display_data"
    },
    {
     "data": {
      "text/html": [],
      "text/plain": [
       "<IPython.core.display.HTML object>"
      ]
     },
     "metadata": {},
     "output_type": "display_data"
    }
   ],
   "source": [
    "preds,_ = learn.get_preds(dl=tst_dl)"
   ]
  },
  {
   "cell_type": "markdown",
   "id": "4457a327",
   "metadata": {
    "papermill": {
     "duration": 0.040637,
     "end_time": "2022-07-23T00:25:05.698582",
     "exception": false,
     "start_time": "2022-07-23T00:25:05.657945",
     "status": "completed"
    },
    "tags": []
   },
   "source": [
    "Finally, let's create a submission CSV just like we did in the previous notebook..."
   ]
  },
  {
   "cell_type": "code",
   "execution_count": 13,
   "id": "f510c454",
   "metadata": {
    "execution": {
     "iopub.execute_input": "2022-07-23T00:25:05.781355Z",
     "iopub.status.busy": "2022-07-23T00:25:05.781033Z",
     "iopub.status.idle": "2022-07-23T00:25:05.793190Z",
     "shell.execute_reply": "2022-07-23T00:25:05.792443Z"
    },
    "papermill": {
     "duration": 0.056057,
     "end_time": "2022-07-23T00:25:05.795574",
     "exception": false,
     "start_time": "2022-07-23T00:25:05.739517",
     "status": "completed"
    },
    "tags": []
   },
   "outputs": [],
   "source": [
    "tst_df['Survived'] = (preds[:,1]>0.5).int()\n",
    "sub_df = tst_df[['PassengerId','Survived']]\n",
    "sub_df.to_csv('sub.csv', index=False)"
   ]
  },
  {
   "cell_type": "markdown",
   "id": "ff2be8be",
   "metadata": {
    "papermill": {
     "duration": 0.040324,
     "end_time": "2022-07-23T00:25:05.876729",
     "exception": false,
     "start_time": "2022-07-23T00:25:05.836405",
     "status": "completed"
    },
    "tags": []
   },
   "source": [
    "...and check that it looks reasonable:"
   ]
  },
  {
   "cell_type": "code",
   "execution_count": 14,
   "id": "116a0f37",
   "metadata": {
    "execution": {
     "iopub.execute_input": "2022-07-23T00:25:05.961115Z",
     "iopub.status.busy": "2022-07-23T00:25:05.960141Z",
     "iopub.status.idle": "2022-07-23T00:25:06.731162Z",
     "shell.execute_reply": "2022-07-23T00:25:06.730277Z"
    },
    "papermill": {
     "duration": 0.816188,
     "end_time": "2022-07-23T00:25:06.733494",
     "exception": false,
     "start_time": "2022-07-23T00:25:05.917306",
     "status": "completed"
    },
    "tags": []
   },
   "outputs": [
    {
     "name": "stdout",
     "output_type": "stream",
     "text": [
      "PassengerId,Survived\r\n",
      "892,0\r\n",
      "893,0\r\n",
      "894,0\r\n",
      "895,0\r\n",
      "896,1\r\n",
      "897,0\r\n",
      "898,1\r\n",
      "899,0\r\n",
      "900,1\r\n"
     ]
    }
   ],
   "source": [
    "!head sub.csv"
   ]
  },
  {
   "cell_type": "markdown",
   "id": "d14d2f26",
   "metadata": {
    "papermill": {
     "duration": 0.040621,
     "end_time": "2022-07-23T00:25:06.815625",
     "exception": false,
     "start_time": "2022-07-23T00:25:06.775004",
     "status": "completed"
    },
    "tags": []
   },
   "source": [
    "## Ensembling"
   ]
  },
  {
   "cell_type": "markdown",
   "id": "c296d252",
   "metadata": {
    "papermill": {
     "duration": 0.040257,
     "end_time": "2022-07-23T00:25:06.896896",
     "exception": false,
     "start_time": "2022-07-23T00:25:06.856639",
     "status": "completed"
    },
    "tags": []
   },
   "source": [
    "Since it's so easy to create a model now, it's easier to play with more advanced modeling approaches. For instance, we can create five separate models, each trained from different random starting points, and average them. This is the simplest approach of [ensembling](https://machinelearningmastery.com/tour-of-ensemble-learning-algorithms/) models, which combines multiple models to generate predictions that are better than any of the single models in the ensemble.\n",
    "\n",
    "To create our ensemble, first we copy the three steps we used above to create and train a model, and apply it to the test set:"
   ]
  },
  {
   "cell_type": "code",
   "execution_count": 15,
   "id": "84385d7a",
   "metadata": {
    "execution": {
     "iopub.execute_input": "2022-07-23T00:25:06.982278Z",
     "iopub.status.busy": "2022-07-23T00:25:06.981408Z",
     "iopub.status.idle": "2022-07-23T00:25:06.987899Z",
     "shell.execute_reply": "2022-07-23T00:25:06.986868Z"
    },
    "papermill": {
     "duration": 0.050474,
     "end_time": "2022-07-23T00:25:06.989899",
     "exception": false,
     "start_time": "2022-07-23T00:25:06.939425",
     "status": "completed"
    },
    "tags": []
   },
   "outputs": [],
   "source": [
    "def ensemble():\n",
    "    learn = tabular_learner(dls, metrics=accuracy, layers=[10,10])\n",
    "    with learn.no_bar(),learn.no_logging(): learn.fit(16, lr=0.03)\n",
    "    return learn.get_preds(dl=tst_dl)[0]"
   ]
  },
  {
   "cell_type": "markdown",
   "id": "432e3f9b",
   "metadata": {
    "papermill": {
     "duration": 0.041633,
     "end_time": "2022-07-23T00:25:07.072092",
     "exception": false,
     "start_time": "2022-07-23T00:25:07.030459",
     "status": "completed"
    },
    "tags": []
   },
   "source": [
    "Now we run this five times, and collect the results into a list:"
   ]
  },
  {
   "cell_type": "code",
   "execution_count": 16,
   "id": "12da9ffd",
   "metadata": {
    "execution": {
     "iopub.execute_input": "2022-07-23T00:25:07.155009Z",
     "iopub.status.busy": "2022-07-23T00:25:07.154724Z",
     "iopub.status.idle": "2022-07-23T00:25:16.947694Z",
     "shell.execute_reply": "2022-07-23T00:25:16.946646Z"
    },
    "papermill": {
     "duration": 9.8373,
     "end_time": "2022-07-23T00:25:16.950000",
     "exception": false,
     "start_time": "2022-07-23T00:25:07.112700",
     "status": "completed"
    },
    "tags": []
   },
   "outputs": [
    {
     "data": {
      "text/html": [
       "\n",
       "<style>\n",
       "    /* Turns off some styling */\n",
       "    progress {\n",
       "        /* gets rid of default border in Firefox and Opera. */\n",
       "        border: none;\n",
       "        /* Needs to be in here for Safari polyfill so background images work as expected. */\n",
       "        background-size: auto;\n",
       "    }\n",
       "    .progress-bar-interrupted, .progress-bar-interrupted::-webkit-progress-bar {\n",
       "        background: #F44336;\n",
       "    }\n",
       "</style>\n"
      ],
      "text/plain": [
       "<IPython.core.display.HTML object>"
      ]
     },
     "metadata": {},
     "output_type": "display_data"
    },
    {
     "data": {
      "text/html": [],
      "text/plain": [
       "<IPython.core.display.HTML object>"
      ]
     },
     "metadata": {},
     "output_type": "display_data"
    },
    {
     "data": {
      "text/html": [
       "\n",
       "<style>\n",
       "    /* Turns off some styling */\n",
       "    progress {\n",
       "        /* gets rid of default border in Firefox and Opera. */\n",
       "        border: none;\n",
       "        /* Needs to be in here for Safari polyfill so background images work as expected. */\n",
       "        background-size: auto;\n",
       "    }\n",
       "    .progress-bar-interrupted, .progress-bar-interrupted::-webkit-progress-bar {\n",
       "        background: #F44336;\n",
       "    }\n",
       "</style>\n"
      ],
      "text/plain": [
       "<IPython.core.display.HTML object>"
      ]
     },
     "metadata": {},
     "output_type": "display_data"
    },
    {
     "data": {
      "text/html": [],
      "text/plain": [
       "<IPython.core.display.HTML object>"
      ]
     },
     "metadata": {},
     "output_type": "display_data"
    },
    {
     "data": {
      "text/html": [
       "\n",
       "<style>\n",
       "    /* Turns off some styling */\n",
       "    progress {\n",
       "        /* gets rid of default border in Firefox and Opera. */\n",
       "        border: none;\n",
       "        /* Needs to be in here for Safari polyfill so background images work as expected. */\n",
       "        background-size: auto;\n",
       "    }\n",
       "    .progress-bar-interrupted, .progress-bar-interrupted::-webkit-progress-bar {\n",
       "        background: #F44336;\n",
       "    }\n",
       "</style>\n"
      ],
      "text/plain": [
       "<IPython.core.display.HTML object>"
      ]
     },
     "metadata": {},
     "output_type": "display_data"
    },
    {
     "data": {
      "text/html": [],
      "text/plain": [
       "<IPython.core.display.HTML object>"
      ]
     },
     "metadata": {},
     "output_type": "display_data"
    },
    {
     "data": {
      "text/html": [
       "\n",
       "<style>\n",
       "    /* Turns off some styling */\n",
       "    progress {\n",
       "        /* gets rid of default border in Firefox and Opera. */\n",
       "        border: none;\n",
       "        /* Needs to be in here for Safari polyfill so background images work as expected. */\n",
       "        background-size: auto;\n",
       "    }\n",
       "    .progress-bar-interrupted, .progress-bar-interrupted::-webkit-progress-bar {\n",
       "        background: #F44336;\n",
       "    }\n",
       "</style>\n"
      ],
      "text/plain": [
       "<IPython.core.display.HTML object>"
      ]
     },
     "metadata": {},
     "output_type": "display_data"
    },
    {
     "data": {
      "text/html": [],
      "text/plain": [
       "<IPython.core.display.HTML object>"
      ]
     },
     "metadata": {},
     "output_type": "display_data"
    },
    {
     "data": {
      "text/html": [
       "\n",
       "<style>\n",
       "    /* Turns off some styling */\n",
       "    progress {\n",
       "        /* gets rid of default border in Firefox and Opera. */\n",
       "        border: none;\n",
       "        /* Needs to be in here for Safari polyfill so background images work as expected. */\n",
       "        background-size: auto;\n",
       "    }\n",
       "    .progress-bar-interrupted, .progress-bar-interrupted::-webkit-progress-bar {\n",
       "        background: #F44336;\n",
       "    }\n",
       "</style>\n"
      ],
      "text/plain": [
       "<IPython.core.display.HTML object>"
      ]
     },
     "metadata": {},
     "output_type": "display_data"
    },
    {
     "data": {
      "text/html": [],
      "text/plain": [
       "<IPython.core.display.HTML object>"
      ]
     },
     "metadata": {},
     "output_type": "display_data"
    }
   ],
   "source": [
    "learns = [ensemble() for _ in range(5)]"
   ]
  },
  {
   "cell_type": "markdown",
   "id": "3c11cb45",
   "metadata": {
    "papermill": {
     "duration": 0.047192,
     "end_time": "2022-07-23T00:25:17.046222",
     "exception": false,
     "start_time": "2022-07-23T00:25:16.999030",
     "status": "completed"
    },
    "tags": []
   },
   "source": [
    "We stack this predictions together and take their average predictions:"
   ]
  },
  {
   "cell_type": "code",
   "execution_count": 17,
   "id": "ae116b51",
   "metadata": {
    "execution": {
     "iopub.execute_input": "2022-07-23T00:25:17.141285Z",
     "iopub.status.busy": "2022-07-23T00:25:17.141001Z",
     "iopub.status.idle": "2022-07-23T00:25:17.146303Z",
     "shell.execute_reply": "2022-07-23T00:25:17.145532Z"
    },
    "papermill": {
     "duration": 0.055427,
     "end_time": "2022-07-23T00:25:17.148347",
     "exception": false,
     "start_time": "2022-07-23T00:25:17.092920",
     "status": "completed"
    },
    "tags": []
   },
   "outputs": [],
   "source": [
    "ens_preds = torch.stack(learns).mean(0)"
   ]
  },
  {
   "cell_type": "markdown",
   "id": "fca87413",
   "metadata": {
    "papermill": {
     "duration": 0.046611,
     "end_time": "2022-07-23T00:25:17.243187",
     "exception": false,
     "start_time": "2022-07-23T00:25:17.196576",
     "status": "completed"
    },
    "tags": []
   },
   "source": [
    "Finally, use the same code as before to generate a submission file, which we can submit to Kaggle after the notebook is saved and run:"
   ]
  },
  {
   "cell_type": "code",
   "execution_count": 18,
   "id": "81b73c0e",
   "metadata": {
    "execution": {
     "iopub.execute_input": "2022-07-23T00:25:17.338209Z",
     "iopub.status.busy": "2022-07-23T00:25:17.337947Z",
     "iopub.status.idle": "2022-07-23T00:25:17.347197Z",
     "shell.execute_reply": "2022-07-23T00:25:17.346283Z"
    },
    "papermill": {
     "duration": 0.059471,
     "end_time": "2022-07-23T00:25:17.349338",
     "exception": false,
     "start_time": "2022-07-23T00:25:17.289867",
     "status": "completed"
    },
    "tags": []
   },
   "outputs": [],
   "source": [
    "tst_df['Survived'] = (ens_preds[:,1]>0.5).int()\n",
    "sub_df = tst_df[['PassengerId','Survived']]\n",
    "sub_df.to_csv('ens_sub.csv', index=False)"
   ]
  },
  {
   "cell_type": "markdown",
   "id": "2faeb5c4",
   "metadata": {
    "papermill": {
     "duration": 0.046684,
     "end_time": "2022-07-23T00:25:17.442522",
     "exception": false,
     "start_time": "2022-07-23T00:25:17.395838",
     "status": "completed"
    },
    "tags": []
   },
   "source": [
    "At the time of writing, this submission is well within the top 25% of entries to the competition.\n",
    "\n",
    "(A lot of submissions to this competition use additional external data, but we have restricted ourselves to just using the data provided. We'd probably do a lot better if we used external data too. Feel free to give that a try, and see how you go. Note that you'll never be able to get to the top of the leaderboard, since a lot of folks in this competition have cheated, by downloading the answers from the internet and uploading them as their submission. In a real competition that's not possible, because the answers aren't public, but there's nothing stopping people from cheating in a tutorial/practice competition like this one. So if you're ready for a real challenge, take a look at the [competitions page](https://www.kaggle.com/competitions/) and start working on a real competition!)"
   ]
  },
  {
   "cell_type": "markdown",
   "id": "4de26522",
   "metadata": {
    "papermill": {
     "duration": 0.046145,
     "end_time": "2022-07-23T00:25:17.535508",
     "exception": false,
     "start_time": "2022-07-23T00:25:17.489363",
     "status": "completed"
    },
    "tags": []
   },
   "source": [
    "## Final thoughts"
   ]
  },
  {
   "cell_type": "markdown",
   "id": "10ac8915",
   "metadata": {
    "papermill": {
     "duration": 0.046272,
     "end_time": "2022-07-23T00:25:17.628487",
     "exception": false,
     "start_time": "2022-07-23T00:25:17.582215",
     "status": "completed"
    },
    "tags": []
   },
   "source": [
    "As you can see, using fastai and PyTorch made things much easier than doing it from scratch, but it also hid away a lot of the details. So if you only ever use a framework, you're not going to as fully understand what's going on under the hood. That understanding can be really helpful when it comes to debugging and improving your models. But do use fastai when you're creating models on Kaggle or in \"real life\", because otherwise you're not taking advantage of all the research that's gone into optimising the models for you, and you'll end up spending more time debugging and implementing menial boiler-plate than actually solving the real problem!\n",
    "\n",
    "If you found this notebook useful, please remember to click the little up-arrow at the top to upvote it, since I like to know when people have found my work useful, and it helps others find it too. (BTW, be sure you're looking at my [original notebook](https://www.kaggle.com/jhoward/why-you-should-use-a-framework) here when you do that, and are not on your own copy of it, otherwise your upvote won't get counted!) And if you have any questions or comments, please pop them below -- I read every comment I receive!"
   ]
  }
 ],
 "metadata": {
  "kernelspec": {
   "display_name": "Python 3",
   "language": "python",
   "name": "python3"
  },
  "language_info": {
   "codemirror_mode": {
    "name": "ipython",
    "version": 3
   },
   "file_extension": ".py",
   "mimetype": "text/x-python",
   "name": "python",
   "nbconvert_exporter": "python",
   "pygments_lexer": "ipython3",
   "version": "3.7.12"
  },
  "papermill": {
   "default_parameters": {},
   "duration": 63.610237,
   "end_time": "2022-07-23T00:25:18.696665",
   "environment_variables": {},
   "exception": null,
   "input_path": "__notebook__.ipynb",
   "output_path": "__notebook__.ipynb",
   "parameters": {},
   "start_time": "2022-07-23T00:24:15.086428",
   "version": "2.3.4"
  }
 },
 "nbformat": 4,
 "nbformat_minor": 5
}
