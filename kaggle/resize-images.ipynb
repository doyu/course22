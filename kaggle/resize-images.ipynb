{
 "cells": [
  {
   "cell_type": "code",
   "execution_count": 1,
   "id": "cfc7c567",
   "metadata": {
    "_kg_hide-input": true,
    "_kg_hide-output": true,
    "execution": {
     "iopub.execute_input": "2022-05-06T00:29:15.366535Z",
     "iopub.status.busy": "2022-05-06T00:29:15.366021Z",
     "iopub.status.idle": "2022-05-06T00:29:42.234770Z",
     "shell.execute_reply": "2022-05-06T00:29:42.233957Z"
    },
    "papermill": {
     "duration": 26.880082,
     "end_time": "2022-05-06T00:29:42.237303",
     "exception": false,
     "start_time": "2022-05-06T00:29:15.357221",
     "status": "completed"
    },
    "tags": []
   },
   "outputs": [
    {
     "name": "stdout",
     "output_type": "stream",
     "text": [
      "\u001b[31mERROR: pip's dependency resolver does not currently take into account all the packages that are installed. This behaviour is the source of the following dependency conflicts.\r\n",
      "tensorflow-io 0.21.0 requires tensorflow-io-gcs-filesystem==0.21.0, which is not installed.\r\n",
      "tensorflow 2.6.3 requires absl-py~=0.10, but you have absl-py 1.0.0 which is incompatible.\r\n",
      "tensorflow 2.6.3 requires numpy~=1.19.2, but you have numpy 1.21.6 which is incompatible.\r\n",
      "tensorflow 2.6.3 requires six~=1.15.0, but you have six 1.16.0 which is incompatible.\r\n",
      "tensorflow 2.6.3 requires wrapt~=1.12.1, but you have wrapt 1.14.0 which is incompatible.\r\n",
      "tensorflow-transform 1.7.0 requires pyarrow<6,>=1, but you have pyarrow 7.0.0 which is incompatible.\r\n",
      "tensorflow-transform 1.7.0 requires tensorflow!=2.0.*,!=2.1.*,!=2.2.*,!=2.3.*,!=2.4.*,!=2.5.*,!=2.6.*,!=2.7.*,<2.9,>=1.15.5, but you have tensorflow 2.6.3 which is incompatible.\r\n",
      "tensorflow-serving-api 2.8.0 requires tensorflow<3,>=2.8.0, but you have tensorflow 2.6.3 which is incompatible.\r\n",
      "rich 12.2.0 requires typing-extensions<5.0,>=4.0.0; python_version < \"3.9\", but you have typing-extensions 3.10.0.2 which is incompatible.\r\n",
      "pytorch-lightning 1.6.1 requires typing-extensions>=4.0.0, but you have typing-extensions 3.10.0.2 which is incompatible.\r\n",
      "flake8 4.0.1 requires importlib-metadata<4.3; python_version < \"3.8\", but you have importlib-metadata 4.11.3 which is incompatible.\r\n",
      "apache-beam 2.37.0 requires dill<0.3.2,>=0.3.1.1, but you have dill 0.3.4 which is incompatible.\r\n",
      "apache-beam 2.37.0 requires httplib2<0.20.0,>=0.8, but you have httplib2 0.20.4 which is incompatible.\r\n",
      "apache-beam 2.37.0 requires pyarrow<7.0.0,>=0.15.1, but you have pyarrow 7.0.0 which is incompatible.\r\n",
      "aioitertools 0.10.0 requires typing_extensions>=4.0; python_version < \"3.10\", but you have typing-extensions 3.10.0.2 which is incompatible.\r\n",
      "aiobotocore 2.2.0 requires botocore<1.24.22,>=1.24.21, but you have botocore 1.25.0 which is incompatible.\u001b[0m\u001b[31m\r\n",
      "\u001b[0m"
     ]
    }
   ],
   "source": [
    "!pip install -Uqq fastai"
   ]
  },
  {
   "cell_type": "code",
   "execution_count": 2,
   "id": "c497d658",
   "metadata": {
    "_cell_guid": "b1076dfc-b9ad-4769-8c92-a6c4dae69d19",
    "_uuid": "8f2839f25d086af736a60e9eeb907d3b93b6e0e5",
    "execution": {
     "iopub.execute_input": "2022-05-06T00:29:42.252962Z",
     "iopub.status.busy": "2022-05-06T00:29:42.252679Z",
     "iopub.status.idle": "2022-05-06T00:29:44.950982Z",
     "shell.execute_reply": "2022-05-06T00:29:44.950137Z"
    },
    "papermill": {
     "duration": 2.708935,
     "end_time": "2022-05-06T00:29:44.953400",
     "exception": false,
     "start_time": "2022-05-06T00:29:42.244465",
     "status": "completed"
    },
    "tags": []
   },
   "outputs": [],
   "source": [
    "from fastai.vision.all import *\n",
    "\n",
    "path = Path('../input/small-jpegs-fgvc')\n",
    "trn_path = path/'train'\n",
    "tst_path = path/'test'\n",
    "\n",
    "trns_path = Path('train')\n",
    "trns_path.mkdir(exist_ok=True)\n",
    "tsts_path = Path('test')\n",
    "tsts_path.mkdir(exist_ok=True)"
   ]
  },
  {
   "cell_type": "code",
   "execution_count": 3,
   "id": "4df1d6f0",
   "metadata": {
    "execution": {
     "iopub.execute_input": "2022-05-06T00:29:44.968573Z",
     "iopub.status.busy": "2022-05-06T00:29:44.967933Z",
     "iopub.status.idle": "2022-05-06T00:39:13.649026Z",
     "shell.execute_reply": "2022-05-06T00:39:13.646395Z"
    },
    "papermill": {
     "duration": 568.6941,
     "end_time": "2022-05-06T00:39:13.654217",
     "exception": false,
     "start_time": "2022-05-06T00:29:44.960117",
     "status": "completed"
    },
    "tags": []
   },
   "outputs": [],
   "source": [
    "resize_images(trn_path, max_workers=8, dest=trns_path, max_size=512)"
   ]
  },
  {
   "cell_type": "code",
   "execution_count": 4,
   "id": "7155f244",
   "metadata": {
    "execution": {
     "iopub.execute_input": "2022-05-06T00:39:13.675777Z",
     "iopub.status.busy": "2022-05-06T00:39:13.674945Z",
     "iopub.status.idle": "2022-05-06T00:49:00.617375Z",
     "shell.execute_reply": "2022-05-06T00:49:00.615553Z"
    },
    "papermill": {
     "duration": 586.959489,
     "end_time": "2022-05-06T00:49:00.623074",
     "exception": false,
     "start_time": "2022-05-06T00:39:13.663585",
     "status": "completed"
    },
    "tags": []
   },
   "outputs": [],
   "source": [
    "resize_images(tst_path, max_workers=8, dest=tsts_path, max_size=512)"
   ]
  },
  {
   "cell_type": "code",
   "execution_count": null,
   "id": "5e7de190",
   "metadata": {
    "papermill": {
     "duration": 0.008056,
     "end_time": "2022-05-06T00:49:00.640472",
     "exception": false,
     "start_time": "2022-05-06T00:49:00.632416",
     "status": "completed"
    },
    "tags": []
   },
   "outputs": [],
   "source": []
  }
 ],
 "metadata": {
  "kernelspec": {
   "display_name": "Python 3",
   "language": "python",
   "name": "python3"
  },
  "language_info": {
   "codemirror_mode": {
    "name": "ipython",
    "version": 3
   },
   "file_extension": ".py",
   "mimetype": "text/x-python",
   "name": "python",
   "nbconvert_exporter": "python",
   "pygments_lexer": "ipython3",
   "version": "3.7.12"
  },
  "papermill": {
   "default_parameters": {},
   "duration": 1196.992945,
   "end_time": "2022-05-06T00:49:02.191337",
   "environment_variables": {},
   "exception": null,
   "input_path": "__notebook__.ipynb",
   "output_path": "__notebook__.ipynb",
   "parameters": {},
   "start_time": "2022-05-06T00:29:05.198392",
   "version": "2.3.4"
  }
 },
 "nbformat": 4,
 "nbformat_minor": 5
}
